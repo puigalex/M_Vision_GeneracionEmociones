{
 "cells": [
  {
   "cell_type": "code",
   "execution_count": 2,
   "metadata": {},
   "outputs": [],
   "source": [
    "import os\n",
    "import shutil\n",
    "\n"
   ]
  },
  {
   "cell_type": "code",
   "execution_count": 18,
   "metadata": {},
   "outputs": [
    {
     "name": "stdout",
     "output_type": "stream",
     "text": [
      "CWD:  /Users/alex/Documents/GitHub/M_Vision_GeneracionEmociones\n"
     ]
    }
   ],
   "source": [
    "#Print current working dir\n",
    "print(\"CWD: \", os.getcwd())\n",
    "# Path to the file with image names and labels\n",
    "file_path = \"/Users/alex/Documents/GitHub/M_Vision_GeneracionEmociones/RAF-DB_basic_emotions/EmoLabel/list_patition_label.txt\"\n",
    "# Path to the folder containing the images\n",
    "image_folder = \"/Users/alex/Documents/GitHub/M_Vision_GeneracionEmociones/RAF-DB_basic_emotions/Image/aligned\"\n",
    "\n",
    "# Path to the folder where you want to move the images\n",
    "destination_folder = \"./new_folder\"\n",
    "\n"
   ]
  },
  {
   "cell_type": "code",
   "execution_count": 19,
   "metadata": {},
   "outputs": [
    {
     "name": "stdout",
     "output_type": "stream",
     "text": [
      "Images moved successfully.\n"
     ]
    }
   ],
   "source": [
    "with open(file_path, \"r\") as file:\n",
    "    for line in file:\n",
    "        # Split the line into image name and label (assuming they are separated by a space)\n",
    "        image_name, label = line.strip().split()\n",
    "\n",
    "        # Construct the source path\n",
    "        source_path = os.path.join(image_folder, image_name)\n",
    "\n",
    "        # Create a subfolder with the label name inside the main destination folder\n",
    "        label_folder = os.path.join(destination_folder, label)\n",
    "        if not os.path.exists(label_folder):\n",
    "            os.makedirs(label_folder)\n",
    "\n",
    "        # Construct the destination path within the label subfolder\n",
    "        destination_path = os.path.join(label_folder, image_name)\n",
    "\n",
    "        # Move the image to the destination folder\n",
    "        shutil.move(source_path, destination_path)\n",
    "\n",
    "print(\"Images moved successfully.\")"
   ]
  },
  {
   "cell_type": "code",
   "execution_count": null,
   "metadata": {},
   "outputs": [],
   "source": []
  }
 ],
 "metadata": {
  "kernelspec": {
   "display_name": "visionpf",
   "language": "python",
   "name": "python3"
  },
  "language_info": {
   "codemirror_mode": {
    "name": "ipython",
    "version": 3
   },
   "file_extension": ".py",
   "mimetype": "text/x-python",
   "name": "python",
   "nbconvert_exporter": "python",
   "pygments_lexer": "ipython3",
   "version": "3.10.13"
  }
 },
 "nbformat": 4,
 "nbformat_minor": 2
}
